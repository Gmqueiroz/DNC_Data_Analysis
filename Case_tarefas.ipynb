{
  "nbformat": 4,
  "nbformat_minor": 0,
  "metadata": {
    "colab": {
      "provenance": [],
      "authorship_tag": "ABX9TyMybpPiHx7UAxVHERYtddPt",
      "include_colab_link": true
    },
    "kernelspec": {
      "name": "python3",
      "display_name": "Python 3"
    },
    "language_info": {
      "name": "python"
    }
  },
  "cells": [
    {
      "cell_type": "markdown",
      "metadata": {
        "id": "view-in-github",
        "colab_type": "text"
      },
      "source": [
        "<a href=\"https://colab.research.google.com/github/Gmqueiroz/DNC_Data_Analysis/blob/main/Case_tarefas.ipynb\" target=\"_parent\"><img src=\"https://colab.research.google.com/assets/colab-badge.svg\" alt=\"Open In Colab\"/></a>"
      ]
    },
    {
      "cell_type": "code",
      "execution_count": null,
      "metadata": {
        "colab": {
          "base_uri": "https://localhost:8080/"
        },
        "id": "Jt1I9DkjI6q8",
        "outputId": "50ef1fa3-5866-4c46-f540-9e72d10eb542"
      },
      "outputs": [
        {
          "output_type": "stream",
          "name": "stdout",
          "text": [
            "Digite uma tarefa:Estudar Python\n",
            "Tarefa foi adicionada\n",
            "Tarefas: Estudar Python\n"
          ]
        }
      ],
      "source": [
        "tarefa=input(\"Digite uma tarefa:\")\n",
        "print(\"Tarefa foi adicionada\")\n",
        "print(\"Tarefas:\", tarefa)"
      ]
    },
    {
      "cell_type": "markdown",
      "source": [
        "Etapa 2 Lacos"
      ],
      "metadata": {
        "id": "kPUB08FsI3dS"
      }
    },
    {
      "cell_type": "code",
      "source": [
        "while True:\n",
        "  opcao= input(\"Adicione uma tarefa(ou digite 'sair' para finalizar operacao )\")\n",
        "  if opcao.lower()=='sair':\n",
        "    break\n",
        "  else:\n",
        "    tarefa=opcao\n",
        "    print(\"Tarefa foi adicionada\",tarefa)\n",
        "\n",
        "print(\"Ultima Tarefa:\", tarefa)\n"
      ],
      "metadata": {
        "colab": {
          "base_uri": "https://localhost:8080/"
        },
        "id": "DD1XksoaI6SI",
        "outputId": "209a80f7-420b-4567-8f62-caff5bb16322",
        "collapsed": true
      },
      "execution_count": null,
      "outputs": [
        {
          "output_type": "stream",
          "name": "stdout",
          "text": [
            "Adicione uma tarefa(ou digite 'sair' para finalizar operacao )Estudar\n",
            "Tarefa foi adicionada Estudar\n",
            "Adicione uma tarefa(ou digite 'sair' para finalizar operacao )Malhar\n",
            "Tarefa foi adicionada Malhar\n",
            "Adicione uma tarefa(ou digite 'sair' para finalizar operacao )Sair\n",
            "Ultima Tarefa: Malhar\n"
          ]
        }
      ]
    },
    {
      "cell_type": "code",
      "source": [],
      "metadata": {
        "id": "uMmZm0cRKgsT"
      },
      "execution_count": null,
      "outputs": []
    },
    {
      "cell_type": "markdown",
      "source": [],
      "metadata": {
        "id": "CvJSwoK8MaUx"
      }
    },
    {
      "cell_type": "code",
      "source": [
        "tarefas=[]\n",
        "\n",
        "while True:\n",
        "  print(\"**Menu de Opções **\")\n",
        "  print(\"1. Adiconar Tarefa\")\n",
        "  print(\"2. Lista de tarefas\")\n",
        "  print(\"3. Remover Tarefas\")\n",
        "  print(\"4. Sair\")\n",
        "  opcao= input(\"Escolha uma opção:\")\n",
        "\n",
        "  if opcao==\"1\":\n",
        "    tarefa=input(\"Digite uma tarefa:\")\n",
        "    tarefas.append(tarefa)\n",
        "    print(\"Tarefa adicionada\")\n",
        "  elif opcao==\"2\":\n",
        "    print(\"Lista de tarefas\")\n",
        "    for tarefa in tarefas:\n",
        "      print(\"-\", tarefa)\n",
        "  elif opcao==\"3\":\n",
        "    tarefa=input(\"Digite uma tarefa para ser removida:\")\n",
        "    if tarefa in tarefas:\n",
        "      tarefas.remove(tarefa)\n",
        "      print(\"Tarefa removida\")\n",
        "    else:\n",
        "      print(\"Tarefa não encontrada\")\n",
        "  elif opcao.lower()==\"4\":\n",
        "    print(\"Saindo do programa...\")\n",
        "    break\n",
        "  else:\n",
        "    print(\"Opção inválida. Tente novamente.\")\n",
        "\n",
        "\n"
      ],
      "metadata": {
        "id": "iBxkHNj4MaqP",
        "colab": {
          "base_uri": "https://localhost:8080/"
        },
        "collapsed": true,
        "outputId": "d4a5483f-4851-499d-f37d-bc83bc8d801f"
      },
      "execution_count": null,
      "outputs": [
        {
          "output_type": "stream",
          "name": "stdout",
          "text": [
            "**Menu de Opções **\n",
            "1. Adiconar Tarefa\n",
            "2. Lista de tarefas\n",
            "3. Remover Tarefas\n",
            "4. Sair\n",
            "Escolha uma opção:1\n",
            "Digite uma tarefa:estudar python\n",
            "Tarefa adicionada\n",
            "**Menu de Opções **\n",
            "1. Adiconar Tarefa\n",
            "2. Lista de tarefas\n",
            "3. Remover Tarefas\n",
            "4. Sair\n",
            "Escolha uma opção:2\n",
            "Lista de tarefas\n",
            "- estudar python\n",
            "**Menu de Opções **\n",
            "1. Adiconar Tarefa\n",
            "2. Lista de tarefas\n",
            "3. Remover Tarefas\n",
            "4. Sair\n",
            "Escolha uma opção:1\n",
            "Digite uma tarefa:Malhar\n",
            "Tarefa adicionada\n",
            "**Menu de Opções **\n",
            "1. Adiconar Tarefa\n",
            "2. Lista de tarefas\n",
            "3. Remover Tarefas\n",
            "4. Sair\n",
            "Escolha uma opção:1\n",
            "Digite uma tarefa:Comer\n",
            "Tarefa adicionada\n",
            "**Menu de Opções **\n",
            "1. Adiconar Tarefa\n",
            "2. Lista de tarefas\n",
            "3. Remover Tarefas\n",
            "4. Sair\n",
            "Escolha uma opção:2\n",
            "Lista de tarefas\n",
            "- estudar python\n",
            "- Malhar\n",
            "- Comer\n",
            "**Menu de Opções **\n",
            "1. Adiconar Tarefa\n",
            "2. Lista de tarefas\n",
            "3. Remover Tarefas\n",
            "4. Sair\n",
            "Escolha uma opção:3\n",
            "Digite uma tarefa para ser removida:Malhar\n",
            "Tarefa removida\n",
            "**Menu de Opções **\n",
            "1. Adiconar Tarefa\n",
            "2. Lista de tarefas\n",
            "3. Remover Tarefas\n",
            "4. Sair\n",
            "Escolha uma opção:4\n",
            "Saindo do programa...\n"
          ]
        }
      ]
    },
    {
      "cell_type": "code",
      "source": [
        "tarefas=[]\n",
        "\n",
        "while True:\n",
        "  print(\"**Menu de Opções **\")\n",
        "  print(\"1. Adiconar Tarefa\")\n",
        "  print(\"2. Lista de tarefas\")\n",
        "  print(\"3. Remover Tarefas\")\n",
        "  print(\"4. Sair\")\n",
        "  opcao= input(\"Escolha uma opção:\")\n",
        "\n",
        "  if opcao==\"1\":\n",
        "    nome=input(\"Digite o nome da tarefa:\")\n",
        "    prioridade = input(\"Digite a prioridade da tarefa:\")\n",
        "\n",
        "    tarefa = {\n",
        "        'nome': nome,\n",
        "        'prioridade': prioridade\n",
        "    }\n",
        "\n",
        "    tarefas.append(tarefa)\n",
        "    print(\"Tarefa adicionada\")\n",
        "  elif opcao==\"2\":\n",
        "    print(\"Lista de tarefas\")\n",
        "    for tarefa in tarefas:\n",
        "      print(f\"- {tarefa['nome']} prioridade {tarefa['prioridade']}\")\n",
        "  elif opcao==\"3\":\n",
        "    nome=input(\"Digite o nome da tarefa para ser removida:\")\n",
        "    for tarefa in tarefas:\n",
        "      if tarefa['nome'] == nome:\n",
        "        tarefas.remove(tarefa)\n",
        "        print(\"Tarefa removida\")\n",
        "        break\n",
        "    else:\n",
        "      print(\"Tarefa não encontrada\")\n",
        "  elif opcao.lower()==\"4\":\n",
        "    print(\"Saindo do programa...\")\n",
        "    break\n",
        "  else:\n",
        "    print(\"Opção inválida. Tente novamente.\")\n"
      ],
      "metadata": {
        "colab": {
          "base_uri": "https://localhost:8080/"
        },
        "id": "lWp_x1Mt1Jfr",
        "outputId": "7e7f531e-4ff7-4a53-ee28-d96608fdc2e4",
        "collapsed": true
      },
      "execution_count": null,
      "outputs": [
        {
          "output_type": "stream",
          "name": "stdout",
          "text": [
            "**Menu de Opções **\n",
            "1. Adiconar Tarefa\n",
            "2. Lista de tarefas\n",
            "3. Remover Tarefas\n",
            "4. Sair\n",
            "Escolha uma opção:2\n",
            "Lista de tarefas\n",
            "**Menu de Opções **\n",
            "1. Adiconar Tarefa\n",
            "2. Lista de tarefas\n",
            "3. Remover Tarefas\n",
            "4. Sair\n",
            "Escolha uma opção:1\n",
            "Digite o nome da tarefa:Estudar Python\n",
            "Digite a prioridade da tarefa:Alta\n",
            "Tarefa adicionada\n",
            "**Menu de Opções **\n",
            "1. Adiconar Tarefa\n",
            "2. Lista de tarefas\n",
            "3. Remover Tarefas\n",
            "4. Sair\n",
            "Escolha uma opção:Comer\n",
            "Opção inválida. Tente novamente.\n",
            "**Menu de Opções **\n",
            "1. Adiconar Tarefa\n",
            "2. Lista de tarefas\n",
            "3. Remover Tarefas\n",
            "4. Sair\n",
            "Escolha uma opção:Baixa\n",
            "Opção inválida. Tente novamente.\n",
            "**Menu de Opções **\n",
            "1. Adiconar Tarefa\n",
            "2. Lista de tarefas\n",
            "3. Remover Tarefas\n",
            "4. Sair\n",
            "Escolha uma opção:Malhar\n",
            "Opção inválida. Tente novamente.\n",
            "**Menu de Opções **\n",
            "1. Adiconar Tarefa\n",
            "2. Lista de tarefas\n",
            "3. Remover Tarefas\n",
            "4. Sair\n",
            "Escolha uma opção:Alta\n",
            "Opção inválida. Tente novamente.\n",
            "**Menu de Opções **\n",
            "1. Adiconar Tarefa\n",
            "2. Lista de tarefas\n",
            "3. Remover Tarefas\n",
            "4. Sair\n",
            "Escolha uma opção:2\n",
            "Lista de tarefas\n",
            "- Estudar Python prioridade Alta\n",
            "**Menu de Opções **\n",
            "1. Adiconar Tarefa\n",
            "2. Lista de tarefas\n",
            "3. Remover Tarefas\n",
            "4. Sair\n",
            "Escolha uma opção:1\n",
            "Digite o nome da tarefa:Malhar\n",
            "Digite a prioridade da tarefa:Alta\n",
            "Tarefa adicionada\n",
            "**Menu de Opções **\n",
            "1. Adiconar Tarefa\n",
            "2. Lista de tarefas\n",
            "3. Remover Tarefas\n",
            "4. Sair\n",
            "Escolha uma opção:1\n",
            "Digite o nome da tarefa:Comer \n",
            "Digite a prioridade da tarefa:Média\n",
            "Tarefa adicionada\n",
            "**Menu de Opções **\n",
            "1. Adiconar Tarefa\n",
            "2. Lista de tarefas\n",
            "3. Remover Tarefas\n",
            "4. Sair\n",
            "Escolha uma opção:2\n",
            "Lista de tarefas\n",
            "- Estudar Python prioridade Alta\n",
            "- Malhar prioridade Alta\n",
            "- Comer  prioridade Média\n",
            "**Menu de Opções **\n",
            "1. Adiconar Tarefa\n",
            "2. Lista de tarefas\n",
            "3. Remover Tarefas\n",
            "4. Sair\n",
            "Escolha uma opção:3\n",
            "Digite o nome da tarefa para ser removida:malhar\n",
            "Tarefa não encontrada\n",
            "**Menu de Opções **\n",
            "1. Adiconar Tarefa\n",
            "2. Lista de tarefas\n",
            "3. Remover Tarefas\n",
            "4. Sair\n",
            "Escolha uma opção:Malhar\n",
            "Opção inválida. Tente novamente.\n",
            "**Menu de Opções **\n",
            "1. Adiconar Tarefa\n",
            "2. Lista de tarefas\n",
            "3. Remover Tarefas\n",
            "4. Sair\n",
            "Escolha uma opção:3\n",
            "Digite o nome da tarefa para ser removida:Malhar\n",
            "Tarefa removida\n",
            "**Menu de Opções **\n",
            "1. Adiconar Tarefa\n",
            "2. Lista de tarefas\n",
            "3. Remover Tarefas\n",
            "4. Sair\n",
            "Escolha uma opção:2\n",
            "Lista de tarefas\n",
            "- Estudar Python prioridade Alta\n",
            "- Comer  prioridade Média\n",
            "**Menu de Opções **\n",
            "1. Adiconar Tarefa\n",
            "2. Lista de tarefas\n",
            "3. Remover Tarefas\n",
            "4. Sair\n",
            "Escolha uma opção:4\n",
            "Saindo do programa...\n"
          ]
        }
      ]
    },
    {
      "cell_type": "markdown",
      "source": [
        "Funções"
      ],
      "metadata": {
        "id": "WxAWuZNzVIkz"
      }
    },
    {
      "cell_type": "code",
      "source": [
        "tarefas=[]\n",
        "\n",
        "def adicionar_tarefa(nome, prioridade):\n",
        "  tarefa= {\n",
        "        'nome': nome,\n",
        "        'prioridade': prioridade\n",
        "    }\n",
        "  tarefas.append(tarefa)\n",
        "  print(\"Tarefa adicionada\")\n",
        "\n",
        "def listar_tarefas():\n",
        "  print(\"Lista de tarefas\")\n",
        "  for tarefa in tarefas:\n",
        "    print(f\"- {tarefa['nome']} (Prioridade {tarefa['prioridade']})\")\n",
        "def remover_tarefa(nome):\n",
        "  for tarefa in tarefas:\n",
        "    if tarefa['nome'] == nome:\n",
        "      tarefas.remove(tarefa)\n",
        "      print(\"Tarefa removida\")\n",
        "      break\n",
        "  else:\n",
        "    print(\"Tarefa não encontrada\")\n",
        "\n",
        "\n",
        "\n",
        "while True:\n",
        "  print(\"**Menu de Opções **\")\n",
        "  print(\"1. Adiconar Tarefa\")\n",
        "  print(\"2. Lista de tarefas\")\n",
        "  print(\"3. Remover Tarefas\")\n",
        "  print(\"4. Sair\")\n",
        "  opcao= input(\"Escolha uma opção:\")\n",
        "\n",
        "  if opcao==\"1\":\n",
        "    nome=input(\"Digite o nome da tarefa:\")\n",
        "    prioridade = input(\"Digite a prioridade da tarefa:\")\n",
        "\n",
        "    adicionar_tarefa(nome, prioridade)\n",
        "  elif opcao==\"2\":\n",
        "    listar_tarefas()\n",
        "\n",
        "  elif opcao==\"3\":\n",
        "    nome=input(\"Digite o nome da tarefa para ser removida:\")\n",
        "    remover_tarefa(nome)\n",
        "\n",
        "  elif opcao.lower()==\"4\":\n",
        "    print(\"Saindo do programa...\")\n",
        "    break\n",
        "  else:\n",
        "    print(\"Opção inválida. Tente novamente.\")"
      ],
      "metadata": {
        "colab": {
          "base_uri": "https://localhost:8080/"
        },
        "id": "Ek9hZ-zzVKyg",
        "outputId": "06a9d538-3ffe-4be6-f5a3-d9aa08b61914",
        "collapsed": true
      },
      "execution_count": null,
      "outputs": [
        {
          "output_type": "stream",
          "name": "stdout",
          "text": [
            "**Menu de Opções **\n",
            "1. Adiconar Tarefa\n",
            "2. Lista de tarefas\n",
            "3. Remover Tarefas\n",
            "4. Sair\n",
            "Escolha uma opção:2\n",
            "Lista de tarefas\n",
            "**Menu de Opções **\n",
            "1. Adiconar Tarefa\n",
            "2. Lista de tarefas\n",
            "3. Remover Tarefas\n",
            "4. Sair\n",
            "Escolha uma opção:1\n",
            "Digite o nome da tarefa:Malhar\n",
            "Digite a prioridade da tarefa:Alta\n",
            "Tarefa adicionada\n",
            "**Menu de Opções **\n",
            "1. Adiconar Tarefa\n",
            "2. Lista de tarefas\n",
            "3. Remover Tarefas\n",
            "4. Sair\n",
            "Escolha uma opção:2\n",
            "Lista de tarefas\n",
            "- Malhar (Prioridade Alta)\n",
            "**Menu de Opções **\n",
            "1. Adiconar Tarefa\n",
            "2. Lista de tarefas\n",
            "3. Remover Tarefas\n",
            "4. Sair\n",
            "Escolha uma opção:4\n",
            "Saindo do programa...\n"
          ]
        }
      ]
    },
    {
      "cell_type": "markdown",
      "source": [
        "Fase final"
      ],
      "metadata": {
        "id": "LqlRXHl77b53"
      }
    },
    {
      "cell_type": "code",
      "source": [
        "import json\n",
        "tarefas=[]\n",
        "\n",
        "def salvar_tarefas():\n",
        "  with open(\"tarefas.json\", \"w\") as arquivo:\n",
        "    json.dump(tarefas, arquivo)\n",
        "  print(\"Tarefas salvas com sucesso!\")\n",
        "def carregar_tarefas():\n",
        "  try:\n",
        "    with open(\"tarefas.json\", \"r\") as arquivo:\n",
        "      tarefas = json.load(arquivo)\n",
        "      print(\"Tarefas carregadas com sucesso!\")\n",
        "      return tarefas\n",
        "  except:\n",
        "    print(\"Nenhum arquivo de tarefas encontrado! Começando nova lista\")\n",
        "    return []\n",
        "\n",
        "def adicionar_tarefa(nome, prioridade):\n",
        "  tarefa= {\n",
        "        'nome': nome,\n",
        "        'prioridade': prioridade\n",
        "    }\n",
        "  tarefas.append(tarefa)\n",
        "  print(\"Tarefa adicionada\")\n",
        "\n",
        "def listar_tarefas():\n",
        "  print(\"Lista de tarefas\")\n",
        "  for tarefa in tarefas:\n",
        "    print(f\"- {tarefa['nome']} (Prioridade {tarefa['prioridade']})\")\n",
        "def remover_tarefa(nome):\n",
        "  for tarefa in tarefas:\n",
        "    if tarefa['nome'] == nome:\n",
        "      tarefas.remove(tarefa)\n",
        "      print(\"Tarefa removida\")\n",
        "      break\n",
        "  else:\n",
        "    print(\"Tarefa não encontrada\")\n",
        "\n",
        "tarefas = carregar_tarefas()\n",
        "\n",
        "while True:\n",
        "  print(\"**Menu de Opções **\")\n",
        "  print(\"1. Adiconar Tarefa\")\n",
        "  print(\"2. Lista de tarefas\")\n",
        "  print(\"3. Remover Tarefas\")\n",
        "  print(\"4. Salvar tarefas\")\n",
        "  print(\"5. Sair\")\n",
        "  opcao= input(\"Escolha uma opção:\")\n",
        "\n",
        "  if opcao==\"1\":\n",
        "    nome=input(\"Digite o nome da tarefa:\")\n",
        "    prioridade = input(\"Digite a prioridade da tarefa:\")\n",
        "\n",
        "    adicionar_tarefa(nome, prioridade)\n",
        "  elif opcao==\"2\":\n",
        "    listar_tarefas()\n",
        "\n",
        "  elif opcao==\"3\":\n",
        "    nome=input(\"Digite o nome da tarefa para ser removida:\")\n",
        "    remover_tarefa(nome)\n",
        "\n",
        "  elif opcao==\"4\":\n",
        "    salvar_tarefas()\n",
        "\n",
        "  elif opcao.lower()==\"5\":\n",
        "    print(\"Saindo do programa...\")\n",
        "    break\n",
        "\n",
        "  else:\n",
        "    print(\"Opção inválida. Tente novamente.\")"
      ],
      "metadata": {
        "colab": {
          "base_uri": "https://localhost:8080/"
        },
        "collapsed": true,
        "id": "z5L6Ztla7eEF",
        "outputId": "cc50e0d7-b936-4a5f-f557-652a5d6f0be3"
      },
      "execution_count": 8,
      "outputs": [
        {
          "output_type": "stream",
          "name": "stdout",
          "text": [
            "Tarefas carregadas com sucesso!\n",
            "**Menu de Opções **\n",
            "1. Adiconar Tarefa\n",
            "2. Lista de tarefas\n",
            "3. Remover Tarefas\n",
            "4. Salvar tarefas\n",
            "5. Sair\n",
            "Escolha uma opção:2\n",
            "Lista de tarefas\n",
            "- Estudar Python (Prioridade Alta)\n",
            "- Estudar arquivos Json (Prioridade Média)\n",
            "**Menu de Opções **\n",
            "1. Adiconar Tarefa\n",
            "2. Lista de tarefas\n",
            "3. Remover Tarefas\n",
            "4. Salvar tarefas\n",
            "5. Sair\n",
            "Escolha uma opção:5\n",
            "Saindo do programa...\n"
          ]
        }
      ]
    }
  ]
}